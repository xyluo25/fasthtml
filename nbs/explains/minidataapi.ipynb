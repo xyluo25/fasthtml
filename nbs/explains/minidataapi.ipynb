{
 "cells": [
  {
   "cell_type": "markdown",
   "metadata": {},
   "source": [
    "# MiniDataAPI Spec"
   ]
  },
  {
   "cell_type": "markdown",
   "metadata": {},
   "source": [
    "The `MiniDataAPI` is a persistence API specification that designed to be small and relatively easy to implement across a wide range of datastores. This means that while early implementations have been SQL-based, the specification can be quickly implemented in key/value stores, document databases, and more.\n",
    "\n"
   ]
  },
  {
   "cell_type": "markdown",
   "metadata": {},
   "source": [
    ":::{.callout-note}\n",
    "The examples in this document use reference implementations of student and ticket tables.\n",
    "\n",
    "```python\n",
    "# Instantiate the connection.\n",
    "db = Database('connection path or string')\n",
    "\n",
    "class Student: name:str; age:int\n",
    "users = db.create(Student, pk='name')\n",
    "\n",
    "class Ticket: id: int; title: str, body: str, status: str\n",
    "# If no `pk` is provided, id is assumed to be the primary key\n",
    "tickets = db.create(Ticket)  \n",
    "```\n",
    ":::"
   ]
  },
  {
   "cell_type": "markdown",
   "metadata": {},
   "source": [
    "## Square bracket search\n",
    "\n",
    "Get a single record by entering a primary key into a table object within square brackets. If no record is found, a `NotFoundError` error is raised. Examples:\n",
    "\n",
    "```python\n",
    "students['Uma']  # User table's primary key is name:str\n",
    "tickets[45]   # Ticket table's primary key is id:int \n",
    "```\n",
    "\n",
    "Question: What if no record is returned?"
   ]
  },
  {
   "cell_type": "markdown",
   "metadata": {},
   "source": [
    "## Circle bracket search\n",
    "\n",
    "Get zero to many records by entering values in a k/v format. Examples:\n",
    "\n",
    "```python\n",
    "for student in students(age=10):\n",
    "    print(student)\n",
    "\n",
    "for ticket in tickets(status='open'):\n",
    "    print(tickets)\n",
    "```"
   ]
  },
  {
   "cell_type": "markdown",
   "metadata": {},
   "source": [
    "## insert\n",
    "\n",
    "Add a new record to the database. Must accept Python dictionaries, dataclasses, and standard classes. Returns an instance of the new record. Example:\n",
    "\n",
    "```python\n",
    "from dataclasses import dataclass\n",
    "\n",
    "@dataclass\n",
    "class Student:\n",
    "    name: str\n",
    "    age: int\n",
    "\n",
    "\n",
    "student = students.insert(Student(name='Uma', age=5))\n",
    "```"
   ]
  },
  {
   "cell_type": "markdown",
   "metadata": {},
   "source": [
    "## update\n",
    "\n",
    "Update an existing record of the database. Must accept Python dictionaries, dataclasses, and standard classes. Uses the primary key for identifying the record to be changed. Returns an instance of the updated record. Example:\n",
    "\n",
    "```python\n",
    "student = students.update(Student(name='Uma', age=6))\n",
    "```"
   ]
  },
  {
   "cell_type": "markdown",
   "metadata": {},
   "source": [
    "## delete\n",
    "\n",
    "Delete a record of the database. Uses the primary key for identifying the record to be removed. Does not return anything. Example:\n",
    "\n",
    "```python\n",
    "students.delete(name='John')\n",
    "```"
   ]
  }
 ],
 "metadata": {
  "kernelspec": {
   "display_name": "python3",
   "language": "python",
   "name": "python3"
  }
 },
 "nbformat": 4,
 "nbformat_minor": 2
}
