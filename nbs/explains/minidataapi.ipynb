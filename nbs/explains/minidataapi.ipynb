{
 "cells": [
  {
   "cell_type": "markdown",
   "metadata": {},
   "source": [
    "# MiniDataAPI Spec"
   ]
  },
  {
   "cell_type": "markdown",
   "metadata": {},
   "source": [
    "The `MiniDataAPI` is a persistence API specification that designed to be small and relatively easy to implement across a wide range of datastores. This means that while early implementations have been SQL-based, the specification can be quickly implemented in key/value stores, document databases, and more.\n",
    "\n"
   ]
  },
  {
   "cell_type": "code",
   "execution_count": 40,
   "metadata": {},
   "outputs": [],
   "source": [
    "#| hide\n",
    "from fasthtml.common import *"
   ]
  },
  {
   "cell_type": "markdown",
   "metadata": {},
   "source": [
    "## Connect/construct the database\n",
    "\n",
    "We connect or construct the database by passing in a string connecting to the database endpoint or a filepath representing the database's location. While this example is for a Sqlite database on a harddrive, other databases such as PostgreSQL, Redis, MongoDB, would instead use a URI pointing at the database's endpoint."
   ]
  },
  {
   "cell_type": "code",
   "execution_count": 41,
   "metadata": {},
   "outputs": [],
   "source": [
    "db = database('data/minidataapi.db')"
   ]
  },
  {
   "cell_type": "markdown",
   "metadata": {},
   "source": [
    "## Create database tables\n",
    "\n",
    "Here we use Python classes to define representations of objects. While in this example we use strings and integers, the MiniDataAPI specification doesn't include types."
   ]
  },
  {
   "cell_type": "code",
   "execution_count": 42,
   "metadata": {},
   "outputs": [],
   "source": [
    "class User: name:str; email: str; year_started:int\n",
    "users = db.create(User, pk='name')\n",
    "\n",
    "class Todo: id: int; title: str; detail: str; status: str; name: str\n",
    "# If no `pk` is provided, id is assumed to be the primary key\n",
    "todos = db.create(Todo) "
   ]
  },
  {
   "cell_type": "code",
   "execution_count": 43,
   "metadata": {},
   "outputs": [
    {
     "data": {
      "text/plain": [
       "[<Table todo (id, title, detail, status, name)>,\n",
       " <Table todo (id, title, detail, status, name)>,\n",
       " <Table todo (id, title, detail, status, name)>]"
      ]
     },
     "execution_count": 43,
     "metadata": {},
     "output_type": "execute_result"
    }
   ],
   "source": [
    "#| hide\n",
    "# Remove records\n",
    "[users.delete(o['name']) for o in users.rows]\n",
    "[todos.delete(o['id']) for o in todos.rows]"
   ]
  },
  {
   "cell_type": "markdown",
   "metadata": {},
   "source": [
    "## insert\n",
    "\n",
    "Add a new record to the database. Must accept Python dictionaries, dataclasses, and standard classes. Returns an instance of the new record."
   ]
  },
  {
   "cell_type": "code",
   "execution_count": 44,
   "metadata": {},
   "outputs": [
    {
     "data": {
      "text/plain": [
       "User(name='Charlie', email='c@example.com', year_started=2018)"
      ]
     },
     "execution_count": 44,
     "metadata": {},
     "output_type": "execute_result"
    }
   ],
   "source": [
    "# Add records to the users table\n",
    "users.insert({'name': 'Braden', 'email': 'b@example.com', 'year_started': 2018})\n",
    "users.insert({'name': 'Alma', 'email': 'a@example.com', 'year_started': 2019})\n",
    "users.insert({'name': 'Charlie', 'email': 'c@example.com', 'year_started': 2018})\n"
   ]
  },
  {
   "cell_type": "code",
   "execution_count": 45,
   "metadata": {},
   "outputs": [
    {
     "data": {
      "text/plain": [
       "Todo(id=3, title='Launch FastHTML', detail=None, status='closed', name='Charlie')"
      ]
     },
     "execution_count": 45,
     "metadata": {},
     "output_type": "execute_result"
    }
   ],
   "source": [
    "# Now the todos table\n",
    "todos.insert(dict(title='Write MiniDataAPI spec', status='open', name='Braden'))\n",
    "todos.insert(dict(title='Implement SSE in FastHTML', status='open', name='Alma'))\n",
    "todos.insert(dict(title='Launch FastHTML', status='closed', name='Charlie'))\n"
   ]
  },
  {
   "cell_type": "markdown",
   "metadata": {},
   "source": [
    "## Square bracket search\n",
    "\n",
    "Get a single record by entering a primary key into a table object within square brackets. "
   ]
  },
  {
   "cell_type": "code",
   "execution_count": 46,
   "metadata": {},
   "outputs": [
    {
     "data": {
      "text/plain": [
       "User(name='Alma', email='a@example.com', year_started=2019)"
      ]
     },
     "execution_count": 46,
     "metadata": {},
     "output_type": "execute_result"
    }
   ],
   "source": [
    "users['Alma']"
   ]
  },
  {
   "cell_type": "markdown",
   "metadata": {},
   "source": [
    "If no record is found, a `NotFoundError` error is raised. "
   ]
  },
  {
   "cell_type": "code",
   "execution_count": 47,
   "metadata": {},
   "outputs": [
    {
     "name": "stdout",
     "output_type": "stream",
     "text": [
      "user David not found\n"
     ]
    }
   ],
   "source": [
    "name = 'David'\n",
    "try:\n",
    "    users[name]\n",
    "except NotFoundError:\n",
    "    print(f'user {name} not found')"
   ]
  },
  {
   "cell_type": "markdown",
   "metadata": {},
   "source": [
    "And now a demonstration of a ticket search, demonstrating how this works with non-string primary keys. "
   ]
  },
  {
   "cell_type": "code",
   "execution_count": 48,
   "metadata": {},
   "outputs": [
    {
     "data": {
      "text/plain": [
       "Todo(id=1, title='Write MiniDataAPI spec', detail=None, status='open', name='Braden')"
      ]
     },
     "execution_count": 48,
     "metadata": {},
     "output_type": "execute_result"
    }
   ],
   "source": [
    "todos[1]"
   ]
  },
  {
   "cell_type": "markdown",
   "metadata": {},
   "source": [
    "## Circle bracket search\n",
    "\n",
    "Get zero to many records by entering values with circle bracket searches."
   ]
  },
  {
   "cell_type": "code",
   "execution_count": 49,
   "metadata": {},
   "outputs": [
    {
     "name": "stdout",
     "output_type": "stream",
     "text": [
      "User(name='Braden', email='b@example.com', year_started=2018)\n",
      "User(name='Alma', email='a@example.com', year_started=2019)\n",
      "User(name='Charlie', email='c@example.com', year_started=2018)\n"
     ]
    }
   ],
   "source": [
    "for user in users():\n",
    "    print(user)"
   ]
  },
  {
   "cell_type": "markdown",
   "metadata": {},
   "source": [
    "We can order the results."
   ]
  },
  {
   "cell_type": "code",
   "execution_count": 50,
   "metadata": {},
   "outputs": [
    {
     "name": "stdout",
     "output_type": "stream",
     "text": [
      "User(name='Alma', email='a@example.com', year_started=2019)\n",
      "User(name='Braden', email='b@example.com', year_started=2018)\n",
      "User(name='Charlie', email='c@example.com', year_started=2018)\n"
     ]
    }
   ],
   "source": [
    "for user in users(order_by='name'):\n",
    "    print(user)"
   ]
  },
  {
   "cell_type": "markdown",
   "metadata": {},
   "source": [
    "We can filter on the results:"
   ]
  },
  {
   "cell_type": "code",
   "execution_count": 51,
   "metadata": {},
   "outputs": [
    {
     "name": "stdout",
     "output_type": "stream",
     "text": [
      "User(name='Alma', email='a@example.com', year_started=2019)\n"
     ]
    }
   ],
   "source": [
    "for user in users(where=\"year_started=2019\"):\n",
    "    print(user)"
   ]
  },
  {
   "cell_type": "markdown",
   "metadata": {},
   "source": [
    "## update\n",
    "\n",
    "Update an existing record of the database. Must accept Python dictionaries, dataclasses, and standard classes. Uses the primary key for identifying the record to be changed. Returns an instance of the updated record. "
   ]
  },
  {
   "cell_type": "code",
   "execution_count": 52,
   "metadata": {},
   "outputs": [
    {
     "data": {
      "text/plain": [
       "User(name='Alma', email=None, year_started=1899)"
      ]
     },
     "execution_count": 52,
     "metadata": {},
     "output_type": "execute_result"
    }
   ],
   "source": [
    "users.update(User(name='Alma', year_started=1899))\n"
   ]
  },
  {
   "cell_type": "markdown",
   "metadata": {},
   "source": [
    "If the primary key doesn't match a record, raise a `NoteFoundError`."
   ]
  },
  {
   "cell_type": "code",
   "execution_count": 53,
   "metadata": {},
   "outputs": [
    {
     "name": "stdout",
     "output_type": "stream",
     "text": [
      "User not found\n"
     ]
    }
   ],
   "source": [
    "try:\n",
    "    users.update(User(name='John', year_started=2024))\n",
    "except NotFoundError:\n",
    "    print('User not found')"
   ]
  },
  {
   "cell_type": "markdown",
   "metadata": {},
   "source": [
    "## delete\n",
    "\n",
    "Delete a record of the database. Uses the primary key for identifying the record to be removed. Does not return anything."
   ]
  },
  {
   "cell_type": "code",
   "execution_count": 54,
   "metadata": {},
   "outputs": [
    {
     "name": "stdout",
     "output_type": "stream",
     "text": [
      "User not deleted\n"
     ]
    }
   ],
   "source": [
    "try:\n",
    "    users.delete('John')\n",
    "except NotFoundError:\n",
    "    print('User not deleted')"
   ]
  },
  {
   "cell_type": "markdown",
   "metadata": {},
   "source": [
    "If the primary key value can't be found, raises a `NotFoundError`."
   ]
  },
  {
   "cell_type": "code",
   "execution_count": 55,
   "metadata": {},
   "outputs": [
    {
     "data": {
      "text/plain": [
       "<Table user (name, email, year_started)>"
      ]
     },
     "execution_count": 55,
     "metadata": {},
     "output_type": "execute_result"
    }
   ],
   "source": [
    "users.delete('Alma')"
   ]
  },
  {
   "cell_type": "markdown",
   "metadata": {},
   "source": [
    "# xtra\n",
    "\n",
    "The xtra action adds a filter to queries and DDL statements. This makes it easier to limit users (or other objects) access to only things for which they have permission."
   ]
  },
  {
   "cell_type": "markdown",
   "metadata": {},
   "source": [
    "## Implementations\n",
    "\n",
    "- [fastlite](https://github.com/AnswerDotAI/fastlite) - The original implementation, only for Sqlite\n",
    "- [fastsql](https://github.com/AnswerDotAI/fastsql) - An SQL database agnostic implementation based on the excellent SQLAlchemy library."
   ]
  }
 ],
 "metadata": {
  "kernelspec": {
   "display_name": "python3",
   "language": "python",
   "name": "python3"
  },
  "language_info": {
   "codemirror_mode": {
    "name": "ipython",
    "version": 3
   },
   "file_extension": ".py",
   "mimetype": "text/x-python",
   "name": "python",
   "nbconvert_exporter": "python",
   "pygments_lexer": "ipython3",
   "version": "3.10.6"
  }
 },
 "nbformat": 4,
 "nbformat_minor": 2
}
